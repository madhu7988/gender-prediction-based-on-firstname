{
 "cells": [
  {
   "cell_type": "code",
   "execution_count": 3,
   "metadata": {},
   "outputs": [],
   "source": [
    "import pickle\n",
    "import streamlit as st\n",
    "\n",
    "# Load the trained model from the pickle file\n",
    "model_filename = 'C:\\\\Users\\\\User\\\\Desktop\\\\Projects(Self)\\\\Gender prediction with name\\\\trained_model.pkl'\n",
    "with open(model_filename, 'rb') as model_file:\n",
    "    model = pickle.load(model_file)\n",
    "\n",
    "# Create a function to predict gender based on a name\n",
    "def predict_gender(name):\n",
    "    gender = (model.predict([name])>=0.5)\n",
    "    if gender==1 :\n",
    "       return \"female\"\n",
    "    return \"male\""
   ]
  },
  {
   "cell_type": "code",
   "execution_count": 8,
   "metadata": {},
   "outputs": [],
   "source": [
    "# Load the trained model from the pickle file\n",
    "vectorizer_filename = 'C:\\\\Users\\\\User\\\\Desktop\\\\Projects(Self)\\\\Gender prediction with name\\\\vectoriser.pkl'\n",
    "with open(vectorizer_filename, 'rb') as vectoriser_file:\n",
    "    vectorizer = pickle.load(vectoriser_file)"
   ]
  },
  {
   "cell_type": "code",
   "execution_count": 13,
   "metadata": {},
   "outputs": [],
   "source": [
    "import joblib\n",
    "loaded_vectorizer = joblib.load(model_filename)"
   ]
  },
  {
   "cell_type": "code",
   "execution_count": 14,
   "metadata": {},
   "outputs": [],
   "source": [
    "from sklearn.feature_extraction.text import CountVectorizer\n",
    "X=['aabha']\n",
    "X=loaded_vectorizer.transform(X).toarray()"
   ]
  },
  {
   "cell_type": "code",
   "execution_count": 15,
   "metadata": {},
   "outputs": [
    {
     "name": "stdout",
     "output_type": "stream",
     "text": [
      "1/1 [==============================] - 1s 1s/step\n"
     ]
    }
   ],
   "source": [
    "y=model.predict(X)"
   ]
  },
  {
   "cell_type": "code",
   "execution_count": 16,
   "metadata": {},
   "outputs": [
    {
     "data": {
      "text/plain": [
       "array([[0.01639877]], dtype=float32)"
      ]
     },
     "execution_count": 16,
     "metadata": {},
     "output_type": "execute_result"
    }
   ],
   "source": [
    "y"
   ]
  },
  {
   "cell_type": "code",
   "execution_count": 20,
   "metadata": {},
   "outputs": [],
   "source": [
    "import pickle\n",
    "import joblib\n",
    "import streamlit as st\n",
    "\n",
    "# Load the input vectoriser from the pickle file\n",
    "vectorizer_filename = 'C:\\\\Users\\\\User\\\\Desktop\\\\Projects(Self)\\\\Gender prediction with name\\\\vectoriser.pkl'\n",
    "loaded_vectorizer = joblib.load(vectorizer_filename)\n",
    "\n",
    "# Load the trained model from the pickle file\n",
    "model_filename = 'C:\\\\Users\\\\User\\\\Desktop\\\\Projects(Self)\\\\Gender prediction with name\\\\trained_model.pkl'\n",
    "with open(model_filename, 'rb') as model_file:\n",
    "    model = pickle.load(model_file)\n",
    "\n",
    "# Create a function to predict gender based on a name\n",
    "def predict_gender(name):\n",
    "    X=loaded_vectorizer.transform([name]).toarray()\n",
    "    gender = (model.predict(X)[0]>=0.5)\n",
    "    if gender==0 :\n",
    "       return \"female\"\n",
    "    return \"male\"\n"
   ]
  },
  {
   "cell_type": "code",
   "execution_count": 21,
   "metadata": {},
   "outputs": [
    {
     "name": "stdout",
     "output_type": "stream",
     "text": [
      "1/1 [==============================] - 1s 1s/step\n",
      "female\n"
     ]
    }
   ],
   "source": [
    "print(predict_gender(\"aabha\"))"
   ]
  },
  {
   "cell_type": "code",
   "execution_count": null,
   "metadata": {},
   "outputs": [],
   "source": []
  }
 ],
 "metadata": {
  "kernelspec": {
   "display_name": "Python 3",
   "language": "python",
   "name": "python3"
  },
  "language_info": {
   "codemirror_mode": {
    "name": "ipython",
    "version": 3
   },
   "file_extension": ".py",
   "mimetype": "text/x-python",
   "name": "python",
   "nbconvert_exporter": "python",
   "pygments_lexer": "ipython3",
   "version": "3.11.5"
  },
  "orig_nbformat": 4
 },
 "nbformat": 4,
 "nbformat_minor": 2
}
