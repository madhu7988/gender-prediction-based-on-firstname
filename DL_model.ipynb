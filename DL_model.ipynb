{
 "cells": [
  {
   "cell_type": "code",
   "execution_count": 3,
   "metadata": {},
   "outputs": [],
   "source": [
    "import numpy as np\n",
    "\n",
    "import pandas as pd\n",
    "\n",
    "import matplotlib.pyplot as plt\n",
    "\n",
    "import seaborn as sns\n",
    "\n",
    "from wordcloud import WordCloud"
   ]
  },
  {
   "cell_type": "code",
   "execution_count": 4,
   "metadata": {},
   "outputs": [
    {
     "data": {
      "text/html": [
       "<div>\n",
       "<style scoped>\n",
       "    .dataframe tbody tr th:only-of-type {\n",
       "        vertical-align: middle;\n",
       "    }\n",
       "\n",
       "    .dataframe tbody tr th {\n",
       "        vertical-align: top;\n",
       "    }\n",
       "\n",
       "    .dataframe thead th {\n",
       "        text-align: right;\n",
       "    }\n",
       "</style>\n",
       "<table border=\"1\" class=\"dataframe\">\n",
       "  <thead>\n",
       "    <tr style=\"text-align: right;\">\n",
       "      <th></th>\n",
       "      <th>name</th>\n",
       "      <th>gender</th>\n",
       "    </tr>\n",
       "  </thead>\n",
       "  <tbody>\n",
       "    <tr>\n",
       "      <th>0</th>\n",
       "      <td>aabha</td>\n",
       "      <td>female</td>\n",
       "    </tr>\n",
       "    <tr>\n",
       "      <th>1</th>\n",
       "      <td>aabhas</td>\n",
       "      <td>male</td>\n",
       "    </tr>\n",
       "    <tr>\n",
       "      <th>2</th>\n",
       "      <td>aabhash</td>\n",
       "      <td>male</td>\n",
       "    </tr>\n",
       "    <tr>\n",
       "      <th>3</th>\n",
       "      <td>aabhesh</td>\n",
       "      <td>male</td>\n",
       "    </tr>\n",
       "    <tr>\n",
       "      <th>4</th>\n",
       "      <td>aabhusan</td>\n",
       "      <td>male</td>\n",
       "    </tr>\n",
       "  </tbody>\n",
       "</table>\n",
       "</div>"
      ],
      "text/plain": [
       "       name  gender\n",
       "0     aabha  female\n",
       "1    aabhas    male\n",
       "2   aabhash    male\n",
       "3   aabhesh    male\n",
       "4  aabhusan    male"
      ]
     },
     "execution_count": 4,
     "metadata": {},
     "output_type": "execute_result"
    }
   ],
   "source": [
    "dataset=pd.read_csv(\"genders.csv\")\n",
    "dataset=dataset.drop(\"count\",axis=1)\n",
    "dataset.head()"
   ]
  },
  {
   "cell_type": "code",
   "execution_count": 5,
   "metadata": {},
   "outputs": [],
   "source": [
    "X=list(dataset['name'])\n",
    "y=list(dataset['gender'])"
   ]
  },
  {
   "cell_type": "code",
   "execution_count": 7,
   "metadata": {},
   "outputs": [],
   "source": [
    "from sklearn.preprocessing import LabelEncoder\n",
    "lb=LabelEncoder()\n",
    "y=lb.fit_transform(y)"
   ]
  },
  {
   "cell_type": "code",
   "execution_count": 8,
   "metadata": {},
   "outputs": [
    {
     "data": {
      "text/plain": [
       "0"
      ]
     },
     "execution_count": 8,
     "metadata": {},
     "output_type": "execute_result"
    }
   ],
   "source": [
    "y[0]"
   ]
  },
  {
   "cell_type": "code",
   "execution_count": 9,
   "metadata": {},
   "outputs": [],
   "source": [
    "from sklearn.feature_extraction.text import CountVectorizer\n",
    "cv=CountVectorizer(analyzer='char')\n",
    "X=cv.fit_transform(X).toarray()"
   ]
  },
  {
   "cell_type": "code",
   "execution_count": 10,
   "metadata": {},
   "outputs": [],
   "source": [
    "import pickle\n",
    "model_filename = 'vectoriser.pkl'\n",
    "with open(model_filename, 'wb') as model_file:\n",
    "    pickle.dump(cv, model_file)"
   ]
  },
  {
   "cell_type": "code",
   "execution_count": 2,
   "metadata": {},
   "outputs": [
    {
     "ename": "NameError",
     "evalue": "name 'X' is not defined",
     "output_type": "error",
     "traceback": [
      "\u001b[1;31m---------------------------------------------------------------------------\u001b[0m",
      "\u001b[1;31mNameError\u001b[0m                                 Traceback (most recent call last)",
      "\u001b[1;32mc:\\Users\\User\\Desktop\\Projects(Self)\\Gender prediction with name\\DL_model.ipynb Cell 6\u001b[0m line \u001b[0;36m2\n\u001b[0;32m      <a href='vscode-notebook-cell:/c%3A/Users/User/Desktop/Projects%28Self%29/Gender%20prediction%20with%20name/DL_model.ipynb#W5sZmlsZQ%3D%3D?line=0'>1</a>\u001b[0m \u001b[39mfrom\u001b[39;00m \u001b[39msklearn\u001b[39;00m\u001b[39m.\u001b[39;00m\u001b[39mmodel_selection\u001b[39;00m \u001b[39mimport\u001b[39;00m train_test_split\n\u001b[1;32m----> <a href='vscode-notebook-cell:/c%3A/Users/User/Desktop/Projects%28Self%29/Gender%20prediction%20with%20name/DL_model.ipynb#W5sZmlsZQ%3D%3D?line=1'>2</a>\u001b[0m X_train,X_test,y_train,y_test\u001b[39m=\u001b[39mtrain_test_split(X,y,test_size\u001b[39m=\u001b[39m\u001b[39m0.33\u001b[39m,random_state\u001b[39m=\u001b[39m\u001b[39m44\u001b[39m)\n",
      "\u001b[1;31mNameError\u001b[0m: name 'X' is not defined"
     ]
    }
   ],
   "source": [
    "from sklearn.model_selection import train_test_split\n",
    "X_train,X_test,y_train,y_test=train_test_split(X,y,test_size=0.33,random_state=44)"
   ]
  },
  {
   "cell_type": "code",
   "execution_count": 7,
   "metadata": {},
   "outputs": [],
   "source": [
    "from tensorflow.keras import models\n",
    "from tensorflow.keras.models import Model\n",
    "from tensorflow.keras.models import load_model\n",
    "from keras.layers import Embedding\n",
    "from tensorflow.keras.layers import Dense, Dropout, Flatten, Input, LeakyReLU\n",
    "from tensorflow.keras.layers import BatchNormalization, Activation, Conv2D \n",
    "from tensorflow.keras.models import Sequential\n",
    "from tensorflow.keras.layers import Dense, Flatten, MaxPooling2D, Dense, Dropout\n",
    "from tensorflow.keras.layers import LSTM"
   ]
  },
  {
   "cell_type": "code",
   "execution_count": 8,
   "metadata": {},
   "outputs": [
    {
     "data": {
      "text/plain": [
       "30"
      ]
     },
     "execution_count": 8,
     "metadata": {},
     "output_type": "execute_result"
    }
   ],
   "source": [
    "len(cv.get_feature_names_out())"
   ]
  },
  {
   "cell_type": "code",
   "execution_count": 9,
   "metadata": {},
   "outputs": [
    {
     "name": "stdout",
     "output_type": "stream",
     "text": [
      "Model: \"sequential\"\n",
      "_________________________________________________________________\n",
      " Layer (type)                Output Shape              Param #   \n",
      "=================================================================\n",
      " embedding (Embedding)       (None, 30, 40)            1200      \n",
      "                                                                 \n",
      " dropout (Dropout)           (None, 30, 40)            0         \n",
      "                                                                 \n",
      " lstm (LSTM)                 (None, 100)               56400     \n",
      "                                                                 \n",
      " dense (Dense)               (None, 64)                6464      \n",
      "                                                                 \n",
      " dropout_1 (Dropout)         (None, 64)                0         \n",
      "                                                                 \n",
      " dense_1 (Dense)             (None, 1)                 65        \n",
      "                                                                 \n",
      "=================================================================\n",
      "Total params: 64129 (250.50 KB)\n",
      "Trainable params: 64129 (250.50 KB)\n",
      "Non-trainable params: 0 (0.00 Byte)\n",
      "_________________________________________________________________\n",
      "None\n"
     ]
    }
   ],
   "source": [
    "\n",
    "LSTM_model=Sequential()\n",
    "LSTM_model.add(Embedding(30,40,input_length=30))\n",
    "LSTM_model.add(Dropout(0.3))\n",
    "LSTM_model.add(LSTM(100))\n",
    "LSTM_model.add(Dense(64,activation='relu'))\n",
    "LSTM_model.add(Dropout(0.3))\n",
    "LSTM_model.add(Dense(1,activation='sigmoid'))\n",
    "LSTM_model.compile(loss='binary_crossentropy',optimizer='adam',metrics=['accuracy'])\n",
    "print(LSTM_model.summary())"
   ]
  },
  {
   "cell_type": "code",
   "execution_count": 10,
   "metadata": {},
   "outputs": [
    {
     "name": "stdout",
     "output_type": "stream",
     "text": [
      "Epoch 1/100\n",
      "88/88 [==============================] - 14s 62ms/step - loss: 0.6026 - accuracy: 0.7220\n",
      "Epoch 2/100\n",
      "88/88 [==============================] - 4s 46ms/step - loss: 0.5906 - accuracy: 0.7265\n",
      "Epoch 3/100\n",
      "88/88 [==============================] - 4s 44ms/step - loss: 0.5903 - accuracy: 0.7265\n",
      "Epoch 4/100\n",
      "88/88 [==============================] - 4s 43ms/step - loss: 0.5897 - accuracy: 0.7265\n",
      "Epoch 5/100\n",
      "88/88 [==============================] - 4s 41ms/step - loss: 0.5894 - accuracy: 0.7265\n",
      "Epoch 6/100\n",
      "88/88 [==============================] - 4s 42ms/step - loss: 0.5866 - accuracy: 0.7265\n",
      "Epoch 7/100\n",
      "88/88 [==============================] - 4s 42ms/step - loss: 0.5900 - accuracy: 0.7265\n",
      "Epoch 8/100\n",
      "88/88 [==============================] - 4s 42ms/step - loss: 0.5883 - accuracy: 0.7265\n",
      "Epoch 9/100\n",
      "88/88 [==============================] - 4s 42ms/step - loss: 0.5886 - accuracy: 0.7265\n",
      "Epoch 10/100\n",
      "88/88 [==============================] - 4s 43ms/step - loss: 0.5878 - accuracy: 0.7265\n",
      "Epoch 11/100\n",
      "88/88 [==============================] - 7s 80ms/step - loss: 0.5862 - accuracy: 0.7265\n",
      "Epoch 12/100\n",
      "88/88 [==============================] - 9s 97ms/step - loss: 0.5853 - accuracy: 0.7265\n",
      "Epoch 13/100\n",
      "88/88 [==============================] - 7s 84ms/step - loss: 0.5854 - accuracy: 0.7265\n",
      "Epoch 14/100\n",
      "88/88 [==============================] - 5s 59ms/step - loss: 0.5800 - accuracy: 0.7265\n",
      "Epoch 15/100\n",
      "88/88 [==============================] - 4s 42ms/step - loss: 0.5796 - accuracy: 0.7265\n",
      "Epoch 16/100\n",
      "88/88 [==============================] - 4s 45ms/step - loss: 0.5759 - accuracy: 0.7263\n",
      "Epoch 17/100\n",
      "88/88 [==============================] - 4s 43ms/step - loss: 0.5753 - accuracy: 0.7258\n",
      "Epoch 18/100\n",
      "88/88 [==============================] - 4s 43ms/step - loss: 0.5770 - accuracy: 0.7265\n",
      "Epoch 19/100\n",
      "88/88 [==============================] - 4s 45ms/step - loss: 0.5718 - accuracy: 0.7267\n",
      "Epoch 20/100\n",
      "88/88 [==============================] - 4s 46ms/step - loss: 0.5724 - accuracy: 0.7265\n",
      "Epoch 21/100\n",
      "88/88 [==============================] - 4s 47ms/step - loss: 0.5721 - accuracy: 0.7263\n",
      "Epoch 22/100\n",
      "88/88 [==============================] - 7s 76ms/step - loss: 0.5724 - accuracy: 0.7270\n",
      "Epoch 23/100\n",
      "88/88 [==============================] - 8s 89ms/step - loss: 0.5736 - accuracy: 0.7263\n",
      "Epoch 24/100\n",
      "88/88 [==============================] - 8s 92ms/step - loss: 0.5689 - accuracy: 0.7258\n",
      "Epoch 25/100\n",
      "88/88 [==============================] - 6s 68ms/step - loss: 0.5674 - accuracy: 0.7279\n",
      "Epoch 26/100\n",
      "88/88 [==============================] - 4s 43ms/step - loss: 0.5685 - accuracy: 0.7250\n",
      "Epoch 27/100\n",
      "88/88 [==============================] - 4s 43ms/step - loss: 0.5659 - accuracy: 0.7270\n",
      "Epoch 28/100\n",
      "88/88 [==============================] - 4s 48ms/step - loss: 0.5658 - accuracy: 0.7279\n",
      "Epoch 29/100\n",
      "88/88 [==============================] - 4s 45ms/step - loss: 0.5653 - accuracy: 0.7249\n",
      "Epoch 30/100\n",
      "88/88 [==============================] - 4s 48ms/step - loss: 0.5610 - accuracy: 0.7274\n",
      "Epoch 31/100\n",
      "88/88 [==============================] - 6s 72ms/step - loss: 0.5616 - accuracy: 0.7268\n",
      "Epoch 32/100\n",
      "88/88 [==============================] - 7s 84ms/step - loss: 0.5625 - accuracy: 0.7272\n",
      "Epoch 33/100\n",
      "88/88 [==============================] - 8s 90ms/step - loss: 0.5609 - accuracy: 0.7249\n",
      "Epoch 34/100\n",
      "88/88 [==============================] - 6s 68ms/step - loss: 0.5602 - accuracy: 0.7261\n",
      "Epoch 35/100\n",
      "88/88 [==============================] - 4s 46ms/step - loss: 0.5564 - accuracy: 0.7284\n",
      "Epoch 36/100\n",
      "88/88 [==============================] - 4s 44ms/step - loss: 0.5580 - accuracy: 0.7274\n",
      "Epoch 37/100\n",
      "88/88 [==============================] - 4s 45ms/step - loss: 0.5548 - accuracy: 0.7283\n",
      "Epoch 38/100\n",
      "88/88 [==============================] - 4s 50ms/step - loss: 0.5522 - accuracy: 0.7293\n",
      "Epoch 39/100\n",
      "88/88 [==============================] - 4s 51ms/step - loss: 0.5508 - accuracy: 0.7306\n",
      "Epoch 40/100\n",
      "88/88 [==============================] - 7s 74ms/step - loss: 0.5500 - accuracy: 0.7292\n",
      "Epoch 41/100\n",
      "88/88 [==============================] - 8s 92ms/step - loss: 0.5475 - accuracy: 0.7299\n",
      "Epoch 42/100\n",
      "88/88 [==============================] - 8s 88ms/step - loss: 0.5469 - accuracy: 0.7349\n",
      "Epoch 43/100\n",
      "88/88 [==============================] - 5s 51ms/step - loss: 0.5503 - accuracy: 0.7304\n",
      "Epoch 44/100\n",
      "88/88 [==============================] - 4s 44ms/step - loss: 0.5422 - accuracy: 0.7347\n",
      "Epoch 45/100\n",
      "88/88 [==============================] - 4s 44ms/step - loss: 0.5422 - accuracy: 0.7347\n",
      "Epoch 46/100\n",
      "88/88 [==============================] - 4s 44ms/step - loss: 0.5421 - accuracy: 0.7336\n",
      "Epoch 47/100\n",
      "88/88 [==============================] - 4s 45ms/step - loss: 0.5434 - accuracy: 0.7329\n",
      "Epoch 48/100\n",
      "88/88 [==============================] - 6s 63ms/step - loss: 0.5406 - accuracy: 0.7327\n",
      "Epoch 49/100\n",
      "88/88 [==============================] - 8s 88ms/step - loss: 0.5381 - accuracy: 0.7331\n",
      "Epoch 50/100\n",
      "88/88 [==============================] - 12s 135ms/step - loss: 0.5364 - accuracy: 0.7369\n",
      "Epoch 51/100\n",
      "88/88 [==============================] - 8s 84ms/step - loss: 0.5362 - accuracy: 0.7311\n",
      "Epoch 52/100\n",
      "88/88 [==============================] - 5s 52ms/step - loss: 0.5312 - accuracy: 0.7353\n",
      "Epoch 53/100\n",
      "88/88 [==============================] - 4s 47ms/step - loss: 0.5315 - accuracy: 0.7410\n",
      "Epoch 54/100\n",
      "88/88 [==============================] - 4s 47ms/step - loss: 0.5287 - accuracy: 0.7408\n",
      "Epoch 55/100\n",
      "88/88 [==============================] - 5s 53ms/step - loss: 0.5264 - accuracy: 0.7370\n",
      "Epoch 56/100\n",
      "88/88 [==============================] - 7s 75ms/step - loss: 0.5266 - accuracy: 0.7415\n",
      "Epoch 57/100\n",
      "88/88 [==============================] - 8s 87ms/step - loss: 0.5254 - accuracy: 0.7467\n",
      "Epoch 58/100\n",
      "88/88 [==============================] - 8s 93ms/step - loss: 0.5211 - accuracy: 0.7446\n",
      "Epoch 59/100\n",
      "88/88 [==============================] - 6s 72ms/step - loss: 0.5209 - accuracy: 0.7430\n",
      "Epoch 60/100\n",
      "88/88 [==============================] - 4s 47ms/step - loss: 0.5158 - accuracy: 0.7442\n",
      "Epoch 61/100\n",
      "88/88 [==============================] - 4s 44ms/step - loss: 0.5127 - accuracy: 0.7491\n",
      "Epoch 62/100\n",
      "88/88 [==============================] - 4s 46ms/step - loss: 0.5101 - accuracy: 0.7521\n",
      "Epoch 63/100\n",
      "88/88 [==============================] - 4s 50ms/step - loss: 0.5102 - accuracy: 0.7526\n",
      "Epoch 64/100\n",
      "88/88 [==============================] - 5s 58ms/step - loss: 0.5108 - accuracy: 0.7478\n",
      "Epoch 65/100\n",
      "88/88 [==============================] - 7s 82ms/step - loss: 0.5062 - accuracy: 0.7525\n",
      "Epoch 66/100\n",
      "88/88 [==============================] - 9s 97ms/step - loss: 0.5005 - accuracy: 0.7537\n",
      "Epoch 67/100\n",
      "88/88 [==============================] - 9s 101ms/step - loss: 0.4991 - accuracy: 0.7564\n",
      "Epoch 68/100\n",
      "88/88 [==============================] - 5s 53ms/step - loss: 0.4912 - accuracy: 0.7636\n",
      "Epoch 69/100\n",
      "88/88 [==============================] - 5s 52ms/step - loss: 0.4975 - accuracy: 0.7580\n",
      "Epoch 70/100\n",
      "88/88 [==============================] - 5s 56ms/step - loss: 0.4888 - accuracy: 0.7618\n",
      "Epoch 71/100\n",
      "88/88 [==============================] - 5s 59ms/step - loss: 0.4848 - accuracy: 0.7616\n",
      "Epoch 72/100\n",
      "88/88 [==============================] - 6s 64ms/step - loss: 0.4841 - accuracy: 0.7643\n",
      "Epoch 73/100\n",
      "88/88 [==============================] - 8s 91ms/step - loss: 0.4807 - accuracy: 0.7647\n",
      "Epoch 74/100\n",
      "88/88 [==============================] - 9s 97ms/step - loss: 0.4771 - accuracy: 0.7654\n",
      "Epoch 75/100\n",
      "88/88 [==============================] - 7s 76ms/step - loss: 0.4703 - accuracy: 0.7711\n",
      "Epoch 76/100\n",
      "88/88 [==============================] - 4s 47ms/step - loss: 0.4776 - accuracy: 0.7700\n",
      "Epoch 77/100\n",
      "88/88 [==============================] - 4s 44ms/step - loss: 0.4659 - accuracy: 0.7725\n",
      "Epoch 78/100\n",
      "88/88 [==============================] - 4s 46ms/step - loss: 0.4662 - accuracy: 0.7722\n",
      "Epoch 79/100\n",
      "88/88 [==============================] - 4s 46ms/step - loss: 0.4609 - accuracy: 0.7754\n",
      "Epoch 80/100\n",
      "88/88 [==============================] - 4s 49ms/step - loss: 0.4595 - accuracy: 0.7768\n",
      "Epoch 81/100\n",
      "88/88 [==============================] - 6s 63ms/step - loss: 0.4543 - accuracy: 0.7763\n",
      "Epoch 82/100\n",
      "88/88 [==============================] - 8s 89ms/step - loss: 0.4464 - accuracy: 0.7759\n",
      "Epoch 83/100\n",
      "88/88 [==============================] - 8s 89ms/step - loss: 0.4487 - accuracy: 0.7808\n",
      "Epoch 84/100\n",
      "88/88 [==============================] - 6s 73ms/step - loss: 0.4495 - accuracy: 0.7790\n",
      "Epoch 85/100\n",
      "88/88 [==============================] - 4s 48ms/step - loss: 0.4528 - accuracy: 0.7767\n",
      "Epoch 86/100\n",
      "88/88 [==============================] - 4s 46ms/step - loss: 0.4344 - accuracy: 0.7860\n",
      "Epoch 87/100\n",
      "88/88 [==============================] - 4s 46ms/step - loss: 0.4281 - accuracy: 0.7865\n",
      "Epoch 88/100\n",
      "88/88 [==============================] - 4s 48ms/step - loss: 0.4280 - accuracy: 0.7881\n",
      "Epoch 89/100\n",
      "88/88 [==============================] - 5s 52ms/step - loss: 0.4238 - accuracy: 0.7889\n",
      "Epoch 90/100\n",
      "88/88 [==============================] - 7s 83ms/step - loss: 0.4179 - accuracy: 0.7957\n",
      "Epoch 91/100\n",
      "88/88 [==============================] - 8s 89ms/step - loss: 0.4154 - accuracy: 0.7912\n",
      "Epoch 92/100\n",
      "88/88 [==============================] - 8s 91ms/step - loss: 0.4139 - accuracy: 0.7948\n",
      "Epoch 93/100\n",
      "88/88 [==============================] - 5s 59ms/step - loss: 0.3984 - accuracy: 0.8021\n",
      "Epoch 94/100\n",
      "88/88 [==============================] - 4s 45ms/step - loss: 0.3998 - accuracy: 0.7960\n",
      "Epoch 95/100\n",
      "88/88 [==============================] - 4s 44ms/step - loss: 0.3956 - accuracy: 0.7996\n",
      "Epoch 96/100\n",
      "88/88 [==============================] - 4s 47ms/step - loss: 0.3967 - accuracy: 0.8059\n",
      "Epoch 97/100\n",
      "88/88 [==============================] - 4s 47ms/step - loss: 0.3927 - accuracy: 0.8012\n",
      "Epoch 98/100\n",
      "88/88 [==============================] - 4s 50ms/step - loss: 0.3870 - accuracy: 0.8046\n",
      "Epoch 99/100\n",
      "88/88 [==============================] - 6s 73ms/step - loss: 0.3777 - accuracy: 0.8095\n",
      "Epoch 100/100\n",
      "88/88 [==============================] - 8s 89ms/step - loss: 0.3767 - accuracy: 0.8059\n"
     ]
    },
    {
     "data": {
      "text/plain": [
       "<keras.src.callbacks.History at 0x1e046394410>"
      ]
     },
     "execution_count": 10,
     "metadata": {},
     "output_type": "execute_result"
    }
   ],
   "source": [
    "LSTM_model.fit(X_train,y_train,epochs=100,batch_size=64)"
   ]
  },
  {
   "cell_type": "code",
   "execution_count": 11,
   "metadata": {},
   "outputs": [
    {
     "name": "stdout",
     "output_type": "stream",
     "text": [
      "86/86 [==============================] - 4s 27ms/step\n"
     ]
    }
   ],
   "source": [
    "y_pred=LSTM_model.predict(X_test)"
   ]
  },
  {
   "cell_type": "code",
   "execution_count": 12,
   "metadata": {},
   "outputs": [],
   "source": [
    "y_pred=(y_pred>=0.5)"
   ]
  },
  {
   "cell_type": "markdown",
   "metadata": {},
   "source": [
    "y_pred"
   ]
  },
  {
   "cell_type": "code",
   "execution_count": 13,
   "metadata": {},
   "outputs": [
    {
     "name": "stdout",
     "output_type": "stream",
     "text": [
      "              precision    recall  f1-score   support\n",
      "\n",
      "           0       0.38      0.24      0.30       736\n",
      "           1       0.76      0.85      0.80      2012\n",
      "\n",
      "    accuracy                           0.69      2748\n",
      "   macro avg       0.57      0.55      0.55      2748\n",
      "weighted avg       0.65      0.69      0.67      2748\n",
      "\n"
     ]
    }
   ],
   "source": [
    "from sklearn.metrics import classification_report\n",
    "cm=classification_report(y_test,y_pred)\n",
    "print(cm)"
   ]
  },
  {
   "cell_type": "code",
   "execution_count": 14,
   "metadata": {},
   "outputs": [],
   "source": [
    "import pickle\n",
    "model_filename = 'trained_model.pkl'\n",
    "with open(model_filename, 'wb') as model_file:\n",
    "    pickle.dump(LSTM_model, model_file)"
   ]
  },
  {
   "cell_type": "code",
   "execution_count": null,
   "metadata": {},
   "outputs": [],
   "source": []
  }
 ],
 "metadata": {
  "kernelspec": {
   "display_name": "Python 3",
   "language": "python",
   "name": "python3"
  },
  "language_info": {
   "codemirror_mode": {
    "name": "ipython",
    "version": 3
   },
   "file_extension": ".py",
   "mimetype": "text/x-python",
   "name": "python",
   "nbconvert_exporter": "python",
   "pygments_lexer": "ipython3",
   "version": "3.11.5"
  },
  "orig_nbformat": 4
 },
 "nbformat": 4,
 "nbformat_minor": 2
}
